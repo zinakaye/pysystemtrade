{
 "cells": [
  {
   "cell_type": "markdown",
   "id": "18b345cd",
   "metadata": {},
   "source": [
    "Here is a whistlestop tour of what pysystemtrade can currently do. You'll probably want to read the [users guide](backtesting.md) after this.\n",
    "Notice that you will see different results than shown here, as you will be using more up to date data.\n",
    "\n",
    "## A simple trading rule\n",
    "\n",
    "(code is [here](/examples/introduction/asimpletradingrule.py) )\n",
    "\n",
    "As systematic traders we believe that the future will be at least a bit like the past. So first of all we need some past data. In principle past data can come from many places, but to begin with we'll get it from some pre-baked .csv files:\n"
   ]
  },
  {
   "cell_type": "code",
   "execution_count": 3,
   "id": "97c7d8f9",
   "metadata": {},
   "outputs": [
    {
     "name": "stdout",
     "output_type": "stream",
     "text": [
      "2022-10-07 20:35:41 {'type': 'csvFuturesSimData'} [Warning] No datapaths provided for .csv, will use defaults  (may break in production, should be fine in sim)\n",
      "2022-10-07 20:35:41 {'type': 'csvFuturesSimData'} [Warning] No datapaths provided for .csv, will use defaults  (may break in production, should be fine in sim)\n",
      "2022-10-07 20:35:41 {'type': 'csvFuturesSimData'} [Warning] No datapaths provided for .csv, will use defaults  (may break in production, should be fine in sim)\n",
      "2022-10-07 20:35:41 {'type': 'csvFuturesSimData'} [Warning] No datapaths provided for .csv, will use defaults  (may break in production, should be fine in sim)\n",
      "2022-10-07 20:35:41 {'type': 'csvFuturesSimData'} [Warning] No datapaths provided for .csv, will use defaults  (may break in production, should be fine in sim)\n"
     ]
    },
    {
     "data": {
      "text/plain": [
       "csvFuturesSimData object with 163 instruments"
      ]
     },
     "execution_count": 3,
     "metadata": {},
     "output_type": "execute_result"
    }
   ],
   "source": [
    "from sysdata.sim.csv_futures_sim_data import csvFuturesSimData\n",
    "data=csvFuturesSimData()\n",
    "data"
   ]
  },
  {
   "cell_type": "markdown",
   "id": "3ce7671f",
   "metadata": {},
   "source": [
    "What instruments have we got?"
   ]
  },
  {
   "cell_type": "code",
   "execution_count": 4,
   "id": "08f66652",
   "metadata": {},
   "outputs": [
    {
     "data": {
      "text/plain": [
       "['FTSECHINAH',\n",
       " 'EU-MID',\n",
       " 'EU-DIV30',\n",
       " 'JP-REALESTATE',\n",
       " 'SMI',\n",
       " 'DJSTX-SMALL',\n",
       " 'EUROSTX200-LARGE',\n",
       " 'PALLAD',\n",
       " 'GBPEUR',\n",
       " 'SP500_micro',\n",
       " 'BOVESPA',\n",
       " 'IRON',\n",
       " 'LEANHOG',\n",
       " 'GAS-LAST',\n",
       " 'US-STAPLES',\n",
       " 'ETHER-micro',\n",
       " 'VNKI',\n",
       " 'SOYBEAN',\n",
       " 'EU-DJ-UTIL',\n",
       " 'FTSEINDO',\n",
       " 'NZD',\n",
       " 'ETHANOL',\n",
       " 'GOLD',\n",
       " 'MSCIASIA',\n",
       " 'EU-DJ-TECH',\n",
       " 'EU-TECH',\n",
       " 'SMI-MID',\n",
       " 'NIFTY',\n",
       " 'BTP',\n",
       " 'EU-TRAVEL',\n",
       " 'NASDAQ_micro',\n",
       " 'AEX',\n",
       " 'BBCOMM',\n",
       " 'NASDAQ',\n",
       " 'EU-HOUSE',\n",
       " 'NIKKEI400',\n",
       " 'RUSSELL',\n",
       " 'USIRS10',\n",
       " 'EU-HEALTH',\n",
       " 'SILVER',\n",
       " 'LUMBER',\n",
       " 'CHEESE',\n",
       " 'EURCHF',\n",
       " 'MILKWET',\n",
       " 'CAC',\n",
       " 'AUD',\n",
       " 'EU-CHEM',\n",
       " 'EU-DJ-OIL',\n",
       " 'BUND',\n",
       " 'EU-FOOD',\n",
       " 'US-MATERIAL',\n",
       " 'US10',\n",
       " 'KR10',\n",
       " 'BEL20',\n",
       " 'US-UTILS',\n",
       " 'EU-RETAIL',\n",
       " 'INR',\n",
       " 'OMX',\n",
       " 'CZK',\n",
       " 'COPPER',\n",
       " 'CLP',\n",
       " 'FEEDCOW',\n",
       " 'EU-BANKS',\n",
       " 'BRE',\n",
       " 'LIVECOW',\n",
       " 'BTP3',\n",
       " 'CAD',\n",
       " 'SGX',\n",
       " 'KOSDAQ',\n",
       " 'MSCISING',\n",
       " 'COPPER-mini',\n",
       " 'R1000',\n",
       " 'HEATOIL',\n",
       " 'CH10',\n",
       " 'JGB-SGX-mini',\n",
       " 'GASOILINE',\n",
       " 'CNH',\n",
       " 'EUROSTX',\n",
       " 'RICE',\n",
       " 'EU-REALESTATE',\n",
       " 'EUR',\n",
       " 'BUXL',\n",
       " 'RUR',\n",
       " 'US5',\n",
       " 'US30',\n",
       " 'JGB',\n",
       " 'CRUDE_W_mini',\n",
       " 'MUMMY',\n",
       " 'MXP',\n",
       " 'KOSPI_mini',\n",
       " 'USIRS5ERIS',\n",
       " 'KRWUSD',\n",
       " 'EU-UTILS',\n",
       " 'USIRS5',\n",
       " 'REDWHEAT',\n",
       " 'EU-MEDIA',\n",
       " 'SEK',\n",
       " 'EU-DJ-TELECOM',\n",
       " 'ALUMINIUM',\n",
       " 'US-FINANCE',\n",
       " 'COTTON',\n",
       " 'GOLD_micro',\n",
       " 'US3',\n",
       " 'EU-BASIC',\n",
       " 'EURO600',\n",
       " 'SOYMEAL',\n",
       " 'US-TECH',\n",
       " 'US-REALESTATE',\n",
       " 'GAS_US',\n",
       " 'US2',\n",
       " 'EU-INSURE',\n",
       " 'MILKDRY',\n",
       " 'SOYOIL',\n",
       " 'OAT',\n",
       " 'FTSETAIWAN',\n",
       " 'JPY',\n",
       " 'SP400',\n",
       " 'US-HEALTH',\n",
       " 'SGD',\n",
       " 'US-INDUSTRY',\n",
       " 'ETHEREUM',\n",
       " 'CRUDE_W',\n",
       " 'MILK',\n",
       " 'CNH-onshore',\n",
       " 'GBP',\n",
       " 'US20',\n",
       " 'BUTTER',\n",
       " 'FTSECHINAA',\n",
       " 'US-DISCRETE',\n",
       " 'BONO',\n",
       " 'BITCOIN',\n",
       " 'BOBL',\n",
       " 'DAX',\n",
       " 'CHF',\n",
       " 'EUROSTX-SMALL',\n",
       " 'PLAT',\n",
       " 'US-ENERGY',\n",
       " 'EU-OIL',\n",
       " 'US-PROPERTY',\n",
       " 'VIX',\n",
       " 'V2X',\n",
       " 'EU-AUTO',\n",
       " 'GAS_US_mini',\n",
       " 'MID-DAX',\n",
       " 'OATIES',\n",
       " 'KOSPI',\n",
       " 'NIKKEI',\n",
       " 'SP500',\n",
       " 'EDOLLAR',\n",
       " 'IRS',\n",
       " 'YENEUR',\n",
       " 'WHEAT',\n",
       " 'US10U',\n",
       " 'TOPIX',\n",
       " 'CORN',\n",
       " 'EUROSTX-LARGE',\n",
       " 'KR3',\n",
       " 'NOK',\n",
       " 'SHATZ',\n",
       " 'EU-CONSTRUCTION',\n",
       " 'DOW',\n",
       " 'EURIBOR',\n",
       " 'BRENT-LAST']"
      ]
     },
     "execution_count": 4,
     "metadata": {},
     "output_type": "execute_result"
    }
   ],
   "source": [
    "data.get_instrument_list()"
   ]
  },
  {
   "cell_type": "markdown",
   "id": "d85310a9",
   "metadata": {},
   "source": [
    "Not all the instruments are easily identifiable"
   ]
  },
  {
   "cell_type": "code",
   "execution_count": 5,
   "id": "56493fb0",
   "metadata": {},
   "outputs": [
    {
     "data": {
      "text/plain": [
       "futuresInstrumentWithMetaData(instrument=MUMMY, meta_data={'Description': 'TSE Mothers Index', 'Pointsize': 1000.0, 'Currency': 'JPY', 'AssetClass': 'Equity', 'Slippage': 0.5, 'PerBlock': 50.0, 'Percentage': 0.0, 'PerTrade': 0.0})"
      ]
     },
     "execution_count": 5,
     "metadata": {},
     "output_type": "execute_result"
    }
   ],
   "source": [
    "data.get_instrument_object_with_meta_data(\"MUMMY\")\n"
   ]
  },
  {
   "cell_type": "markdown",
   "id": "365c6abc",
   "metadata": {},
   "source": [
    "And what kind of data can we get for them?"
   ]
  },
  {
   "cell_type": "code",
   "execution_count": 6,
   "id": "fc7b009c",
   "metadata": {},
   "outputs": [
    {
     "data": {
      "text/plain": [
       "index\n",
       "2022-09-29 23:00:00    96.225\n",
       "2022-09-30 14:30:00    96.320\n",
       "2022-09-30 15:00:00    96.265\n",
       "2022-09-30 16:00:00    96.275\n",
       "2022-09-30 17:00:00    96.265\n",
       "Name: price, dtype: float64"
      ]
     },
     "execution_count": 6,
     "metadata": {},
     "output_type": "execute_result"
    }
   ],
   "source": [
    "data.get_raw_price(\"EDOLLAR\").tail(5)"
   ]
  },
  {
   "cell_type": "markdown",
   "id": "7a9c4647",
   "metadata": {},
   "source": [
    "*I'll update the data regularly, as well as including methods for you to get your own data from different sources*\n",
    "\n",
    "*Technical note: This is the 'back-adjusted' price for the future, formed from stitching adjacent contracts together using the 'panama' method*\n",
    "\n",
    "`data` objects behave a bit like dicts (though they don't formally inherit from them). So these both work:\n"
   ]
  },
  {
   "cell_type": "code",
   "execution_count": 7,
   "id": "f4141ebf",
   "metadata": {},
   "outputs": [
    {
     "data": {
      "text/plain": [
       "index\n",
       "1982-09-14 23:00:00     405.40\n",
       "1982-09-15 23:00:00     405.90\n",
       "1982-09-16 23:00:00     405.25\n",
       "1982-09-17 23:00:00     404.35\n",
       "1982-09-20 23:00:00     405.15\n",
       "                        ...   \n",
       "2022-09-30 15:00:00    3666.75\n",
       "2022-09-30 16:00:00    3654.50\n",
       "2022-09-30 17:00:00    3651.75\n",
       "2022-09-30 18:00:00    3634.75\n",
       "2022-09-30 19:00:00    3638.50\n",
       "Name: price, Length: 32533, dtype: float64"
      ]
     },
     "execution_count": 7,
     "metadata": {},
     "output_type": "execute_result"
    }
   ],
   "source": [
    "data.keys() ## equivalent to data.get_instrument_list\n",
    "data['SP500_micro'] ## equivalent to data.get_instrument_price"
   ]
  },
  {
   "cell_type": "markdown",
   "id": "7f8f1a53",
   "metadata": {},
   "source": [
    "Price data is useful, but is there any other data available? For futures, yes, we can get the data we need to implement a carry rule:"
   ]
  },
  {
   "cell_type": "code",
   "execution_count": 8,
   "id": "c8ca66b3",
   "metadata": {},
   "outputs": [
    {
     "data": {
      "text/html": [
       "<div>\n",
       "<style scoped>\n",
       "    .dataframe tbody tr th:only-of-type {\n",
       "        vertical-align: middle;\n",
       "    }\n",
       "\n",
       "    .dataframe tbody tr th {\n",
       "        vertical-align: top;\n",
       "    }\n",
       "\n",
       "    .dataframe thead th {\n",
       "        text-align: right;\n",
       "    }\n",
       "</style>\n",
       "<table border=\"1\" class=\"dataframe\">\n",
       "  <thead>\n",
       "    <tr style=\"text-align: right;\">\n",
       "      <th></th>\n",
       "      <th>PRICE</th>\n",
       "      <th>CARRY</th>\n",
       "      <th>PRICE_CONTRACT</th>\n",
       "      <th>CARRY_CONTRACT</th>\n",
       "    </tr>\n",
       "    <tr>\n",
       "      <th>index</th>\n",
       "      <th></th>\n",
       "      <th></th>\n",
       "      <th></th>\n",
       "      <th></th>\n",
       "    </tr>\n",
       "  </thead>\n",
       "  <tbody>\n",
       "    <tr>\n",
       "      <th>2022-09-29 21:00:00</th>\n",
       "      <td>96.225</td>\n",
       "      <td>96.215</td>\n",
       "      <td>20251200</td>\n",
       "      <td>20250900</td>\n",
       "    </tr>\n",
       "    <tr>\n",
       "      <th>2022-09-29 23:00:00</th>\n",
       "      <td>96.225</td>\n",
       "      <td>96.215</td>\n",
       "      <td>20251200</td>\n",
       "      <td>20250900</td>\n",
       "    </tr>\n",
       "    <tr>\n",
       "      <th>2022-09-30 14:30:00</th>\n",
       "      <td>96.320</td>\n",
       "      <td>96.295</td>\n",
       "      <td>20251200</td>\n",
       "      <td>20250900</td>\n",
       "    </tr>\n",
       "    <tr>\n",
       "      <th>2022-09-30 15:00:00</th>\n",
       "      <td>96.265</td>\n",
       "      <td>96.245</td>\n",
       "      <td>20251200</td>\n",
       "      <td>20250900</td>\n",
       "    </tr>\n",
       "    <tr>\n",
       "      <th>2022-09-30 16:00:00</th>\n",
       "      <td>96.275</td>\n",
       "      <td>96.260</td>\n",
       "      <td>20251200</td>\n",
       "      <td>20250900</td>\n",
       "    </tr>\n",
       "    <tr>\n",
       "      <th>2022-09-30 17:00:00</th>\n",
       "      <td>96.265</td>\n",
       "      <td>96.250</td>\n",
       "      <td>20251200</td>\n",
       "      <td>20250900</td>\n",
       "    </tr>\n",
       "  </tbody>\n",
       "</table>\n",
       "</div>"
      ],
      "text/plain": [
       "                      PRICE   CARRY PRICE_CONTRACT CARRY_CONTRACT\n",
       "index                                                            \n",
       "2022-09-29 21:00:00  96.225  96.215       20251200       20250900\n",
       "2022-09-29 23:00:00  96.225  96.215       20251200       20250900\n",
       "2022-09-30 14:30:00  96.320  96.295       20251200       20250900\n",
       "2022-09-30 15:00:00  96.265  96.245       20251200       20250900\n",
       "2022-09-30 16:00:00  96.275  96.260       20251200       20250900\n",
       "2022-09-30 17:00:00  96.265  96.250       20251200       20250900"
      ]
     },
     "execution_count": 8,
     "metadata": {},
     "output_type": "execute_result"
    }
   ],
   "source": [
    "data.get_instrument_raw_carry_data(\"EDOLLAR\").tail(6)"
   ]
  },
  {
   "cell_type": "markdown",
   "id": "da911c38",
   "metadata": {},
   "source": [
    "Let's create a simple trading rule."
   ]
  },
  {
   "cell_type": "code",
   "execution_count": 9,
   "id": "9f7c4fb8",
   "metadata": {},
   "outputs": [],
   "source": [
    "import pandas as pd\n",
    "from sysquant.estimators.vol import robust_vol_calc\n",
    "\n",
    "\n",
    "def calc_ewmac_forecast(price, Lfast, Lslow=None):\n",
    "    \"\"\"\n",
    "    Calculate the ewmac trading rule forecast, given a price and EWMA speeds Lfast, Lslow and vol_lookback\n",
    "\n",
    "    \"\"\"\n",
    "    ## price: This is the stitched price series\n",
    "    ## We can't use the price of the contract we're trading, or the volatility will be jumpy\n",
    "    ## And we'll miss out on the rolldown. See https://qoppac.blogspot.com/2015/05/systems-building-futures-rolling.html\n",
    "\n",
    "    price = price.resample(\"1B\").last()\n",
    "    if Lslow is None:\n",
    "        Lslow = 4 * Lfast\n",
    "\n",
    "    ## We don't need to calculate the decay parameter, just use the span directly\n",
    "\n",
    "    fast_ewma = price.ewm(span=Lfast).mean()\n",
    "    slow_ewma = price.ewm(span=Lslow).mean()\n",
    "    raw_ewmac = fast_ewma - slow_ewma\n",
    "\n",
    "    vol = robust_vol_calc(price.diff())\n",
    "\n",
    "    return raw_ewmac / vol"
   ]
  },
  {
   "cell_type": "markdown",
   "id": "87bd3468",
   "metadata": {},
   "source": [
    "Let's run it and look at the output"
   ]
  },
  {
   "cell_type": "code",
   "execution_count": 13,
   "id": "981fbb9f",
   "metadata": {},
   "outputs": [
    {
     "data": {
      "text/plain": [
       "index\n",
       "2022-09-26   -4.063877\n",
       "2022-09-27   -4.459054\n",
       "2022-09-28   -3.842633\n",
       "2022-09-29   -4.073326\n",
       "2022-09-30   -4.263597\n",
       "Freq: B, Name: price, dtype: float64"
      ]
     },
     "execution_count": 13,
     "metadata": {},
     "output_type": "execute_result"
    }
   ],
   "source": [
    "instrument_code='EDOLLAR'\n",
    "price=data.daily_prices(instrument_code)\n",
    "ewmac=calc_ewmac_forecast(price, 32, 128)\n",
    "ewmac.tail(5)\n"
   ]
  },
  {
   "cell_type": "code",
   "execution_count": 14,
   "id": "34313da4",
   "metadata": {},
   "outputs": [
    {
     "data": {
      "image/png": "[encoded data removed]",
      "text/plain": [
       "<Figure size 640x480 with 1 Axes>"
      ]
     },
     "metadata": {},
     "output_type": "display_data"
    }
   ],
   "source": [
    "from matplotlib.pyplot import show\n",
    "ewmac.plot()\n",
    "show()"
   ]
  },
  {
   "cell_type": "markdown",
   "id": "9bd51b57",
   "metadata": {},
   "source": [
    "Did we make any money?\n"
   ]
  },
  {
   "cell_type": "code",
   "execution_count": 17,
   "id": "60937c61",
   "metadata": {},
   "outputs": [
    {
     "data": {
      "text/plain": [
       "[[('min', '-5.81'),\n",
       "  ('max', '5.141'),\n",
       "  ('median', '0'),\n",
       "  ('mean', '0.01386'),\n",
       "  ('std', '0.4962'),\n",
       "  ('skew', '-0.2208'),\n",
       "  ('ann_mean', '3.547'),\n",
       "  ('ann_std', '7.938'),\n",
       "  ('sharpe', '0.4468'),\n",
       "  ('sortino', '0.526'),\n",
       "  ('avg_drawdown', '-11.29'),\n",
       "  ('time_in_drawdown', '0.9733'),\n",
       "  ('calmar', '0.09848'),\n",
       "  ('avg_return_to_drawdown', '0.3141'),\n",
       "  ('avg_loss', '-0.3167'),\n",
       "  ('avg_gain', '0.3232'),\n",
       "  ('gaintolossratio', '1.02'),\n",
       "  ('profitfactor', '1.1'),\n",
       "  ('hitrate', '0.5188'),\n",
       "  ('t_stat', '2.8'),\n",
       "  ('p_value', '0.005123')],\n",
       " ('You can also plot / print:',\n",
       "  ['rolling_ann_std', 'drawdown', 'curve', 'percent'])]"
      ]
     },
     "execution_count": 17,
     "metadata": {},
     "output_type": "execute_result"
    }
   ],
   "source": [
    "from systems.accounts.account_forecast import pandl_for_instrument_forecast\n",
    "account = pandl_for_instrument_forecast(forecast = ewmac, price=price)\n",
    "account.percent.stats()"
   ]
  },
  {
   "cell_type": "markdown",
   "id": "c354a404",
   "metadata": {},
   "source": [
    "Looks like we did make a few bucks. `account`, by the way inherits from a pandas data frame. Here are some other things we can do with it:"
   ]
  },
  {
   "cell_type": "code",
   "execution_count": 18,
   "id": "021c90df",
   "metadata": {},
   "outputs": [
    {
     "data": {
      "text/plain": [
       "3.547166797339901"
      ]
     },
     "execution_count": 18,
     "metadata": {},
     "output_type": "execute_result"
    },
    {
     "data": {
      "image/png": "[encoded data removed]",
      "text/plain": [
       "<Figure size 640x480 with 1 Axes>"
      ]
     },
     "metadata": {},
     "output_type": "display_data"
    }
   ],
   "source": [
    "account.sharpe() ## get the Sharpe Ratio (annualised), and any other statistic which is in the stats list\n",
    "account.curve().plot() ## plot the cumulative account curve (equivalent to account.cumsum().plot() inicidentally)\n",
    "account.percent ## gives a % curve\n",
    "account.percent.drawdown().plot() ## see the drawdowns as a percentage\n",
    "account.weekly ## weekly returns (also daily [default], monthly, annual)\n",
    "account.gross.ann_mean() ## annual mean for gross returns, also costs (there are none in this simple example)"
   ]
  },
  {
   "cell_type": "markdown",
   "id": "df601eb7",
   "metadata": {},
   "source": [
    "[Here](notebooks/introduction_with_fxdata.ipynb) you can find a modified version of this example using IB data instead of pre-baked CSV data files.\n",
    "\n",
    "## A simple system\n",
    "\n",
    "(code is [here](/examples/introduction/simplesystem.py) )"
   ]
  },
  {
   "cell_type": "markdown",
   "id": "27e6d818",
   "metadata": {},
   "source": [
    "This is all very well, but what we probably want to do is build a trading **system** composed of several trading rules, and a few more instruments.\n",
    "\n",
    "A system consists of some `data` (which we've already seen), a number of processing *stages*, and optionally a configuration to modify how each of the stages behaves.\n",
    "\n",
    "A full list of stages would include:\n",
    "\n",
    "1. Preprocessing some raw data (which we don't cover in this introduction)\n",
    "2. Running some trading rules over it to generate forecasts\n",
    "3. Scaling and capping those forecasts\n",
    "4. Combining forecasts together\n",
    "5. Position sizing\n",
    "6. Creating a portfolio of instruments\n",
    "7. Working out the p&l\n",
    "\n",
    "For now let's start with the simplest possible system, one which contains only a trading rules stage. Let's just setup our environment again:"
   ]
  },
  {
   "cell_type": "code",
   "execution_count": 20,
   "id": "b91c010f",
   "metadata": {},
   "outputs": [
    {
     "name": "stdout",
     "output_type": "stream",
     "text": [
      "2022-10-07 21:43:07 {'type': 'csvFuturesSimData'} [Warning] No datapaths provided for .csv, will use defaults  (may break in production, should be fine in sim)\n",
      "2022-10-07 21:43:07 {'type': 'csvFuturesSimData'} [Warning] No datapaths provided for .csv, will use defaults  (may break in production, should be fine in sim)\n",
      "2022-10-07 21:43:07 {'type': 'csvFuturesSimData'} [Warning] No datapaths provided for .csv, will use defaults  (may break in production, should be fine in sim)\n",
      "2022-10-07 21:43:07 {'type': 'csvFuturesSimData'} [Warning] No datapaths provided for .csv, will use defaults  (may break in production, should be fine in sim)\n",
      "2022-10-07 21:43:07 {'type': 'csvFuturesSimData'} [Warning] No datapaths provided for .csv, will use defaults  (may break in production, should be fine in sim)\n"
     ]
    }
   ],
   "source": [
    "from sysdata.sim.csv_futures_sim_data import csvFuturesSimData\n",
    "data=csvFuturesSimData()\n",
    "\n",
    "from systems.provided.rules.ewmac import ewmac_forecast_with_defaults as ewmac"
   ]
  },
  {
   "cell_type": "markdown",
   "id": "adac5879",
   "metadata": {},
   "source": [
    "This is a slightly different version of the rule we defined before, which has default values for `Lfast` and `Lslow`. Now there are many ways to create a set of trading rules; here is the simplest:"
   ]
  },
  {
   "cell_type": "code",
   "execution_count": 21,
   "id": "3511bd05",
   "metadata": {},
   "outputs": [
    {
     "data": {
      "text/plain": [
       "{'rule0': TradingRule; function: <function ewmac_forecast_with_defaults at 0x7fdbb942f8b0>, data: data.daily_prices (args: {}) and other_args: }"
      ]
     },
     "execution_count": 21,
     "metadata": {},
     "output_type": "execute_result"
    }
   ],
   "source": [
    "from systems.forecasting import Rules\n",
    "my_rules=Rules(ewmac)\n",
    "my_rules.trading_rules()"
   ]
  },
  {
   "cell_type": "markdown",
   "id": "2b6fec80",
   "metadata": {},
   "source": [
    "This won't make much sense now, but bear with me (and don't worry if you get a different hexadecimal number). Suffice to say we've created a dict of trading rules with one variation, which has been given the thrilling name of `rule0`. `rule0` isn't especially meaningful, so let's come up with a better name:"
   ]
  },
  {
   "cell_type": "code",
   "execution_count": 22,
   "id": "6904d4d4",
   "metadata": {},
   "outputs": [
    {
     "data": {
      "text/plain": [
       "{'ewmac': TradingRule; function: <function ewmac_forecast_with_defaults at 0x7fdbb942f8b0>, data: data.daily_prices (args: {}) and other_args: }"
      ]
     },
     "execution_count": 22,
     "metadata": {},
     "output_type": "execute_result"
    }
   ],
   "source": [
    "my_rules=Rules(dict(ewmac=ewmac))\n",
    "my_rules.trading_rules()"
   ]
  },
  {
   "cell_type": "markdown",
   "id": "1a4d725d",
   "metadata": {},
   "source": [
    "The next stage is to create a system incorporating our `data` object, and the `my_rules` stage."
   ]
  },
  {
   "cell_type": "code",
   "execution_count": 25,
   "id": "2f3c6d4f",
   "metadata": {},
   "outputs": [
    {
     "data": {
      "text/plain": [
       "System base_system with .config, .data, and .stages: rules"
      ]
     },
     "execution_count": 25,
     "metadata": {},
     "output_type": "execute_result"
    }
   ],
   "source": [
    "from systems.basesystem import System\n",
    "my_system=System([my_rules], data)\n",
    "my_system"
   ]
  },
  {
   "cell_type": "markdown",
   "id": "b1c9e891",
   "metadata": {},
   "source": [
    "We can now get forecasts:\n"
   ]
  },
  {
   "cell_type": "code",
   "execution_count": 26,
   "id": "69670ff8",
   "metadata": {},
   "outputs": [
    {
     "data": {
      "text/plain": [
       "index\n",
       "2022-09-26   -1.006302\n",
       "2022-09-27   -1.003630\n",
       "2022-09-28   -1.029374\n",
       "2022-09-29   -1.051614\n",
       "2022-09-30   -1.077200\n",
       "Freq: B, Name: price, dtype: float64"
      ]
     },
     "execution_count": 26,
     "metadata": {},
     "output_type": "execute_result"
    }
   ],
   "source": [
    "my_system.rules.get_raw_forecast(\"EDOLLAR\", \"ewmac\").tail(5)\n"
   ]
  }
 ],
 "metadata": {
  "kernelspec": {
   "display_name": "Python 3 (ipykernel)",
   "language": "python",
   "name": "python3"
  },
  "language_info": {
   "codemirror_mode": {
    "name": "ipython",
    "version": 3
   },
   "file_extension": ".py",
   "mimetype": "text/x-python",
   "name": "python",
   "nbconvert_exporter": "python",
   "pygments_lexer": "ipython3",
   "version": "3.8.13"
  }
 },
 "nbformat": 4,
 "nbformat_minor": 5
}
